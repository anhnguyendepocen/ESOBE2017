{
 "cells": [
  {
   "cell_type": "code",
   "execution_count": null,
   "metadata": {
    "collapsed": true
   },
   "outputs": [],
   "source": [
    "import time\n",
    "import pandas as pd\n",
    "import numpy as np \n",
    "import os\n",
    "\n",
    "\n",
    "from sklearn.utils import shuffle\n",
    "from sklearn.neural_network import MLPClassifier\n",
    "\n",
    "\n",
    "# data set version , 2011 to load the 2011 version of the data set, 2014 for loading the 2014 version\n",
    "# any other value for loading other arbitrary binary classification datasets (for which the class label is the last column of the data set )\n",
    "DATA_SET_VER = 2014\n",
    "PERMUTE_DATA_FLAG = True\n",
    "EXP_TYPE = 'out_of_sample'\n",
    "# number of rounds that the experiment is repeated\n",
    "ROUNDS_NO = 20\n",
    "TRAIN_RATIO = 2/3\n",
    "PROBABILITY_THRESHOLD = 0.5 #  a simple method to alleviate the class imbalance problem\n",
    "# sizes of hidden layers\n",
    "HIDDEN_LAYER_SIZES = (10,10,10)\n",
    "ACT_FUNCTION = 'relu'"
   ]
  },
  {
   "cell_type": "code",
   "execution_count": null,
   "metadata": {
    "collapsed": true
   },
   "outputs": [],
   "source": [
    "# returns the training and testing features and target variables based on the specified training ratio\n",
    "def get_data(train_ratio = TRAIN_RATIO):\n",
    "    current_dir = os.getcwd()\n",
    "    if DATA_SET_VER == 2011:\n",
    "         data_set_file_name = current_dir + '/dataset/bank/bank-full-preprocessed.csv'\n",
    "    elif DATA_SET_VER == 2014:\n",
    "         data_set_file_name = current_dir + '/dataset/bank-additional/bank-additional-full-preprocessed.csv';\n",
    "    else:\n",
    "         data_set_file_name = current_dir + '/dataset/synthetic/synthetic.csv';\n",
    "\n",
    "    data_set_df = pd.read_csv(data_set_file_name,delimiter = ';')\n",
    "    if PERMUTE_DATA_FLAG:\n",
    "        data_set_df = shuffle(data_set_df)\n",
    "    data_set_rows_no = data_set_df.shape[0]\n",
    "    if EXP_TYPE == \"out_of_sample\":\n",
    "        train_samples_max_index = int(data_set_rows_no * train_ratio)\n",
    "        train_data_df = data_set_df[0:train_samples_max_index]\n",
    "        test_data_df = data_set_df[train_samples_max_index:]\n",
    "    else:\n",
    "        train_data_df = data_set_df\n",
    "        test_data_df = data_set_df.copy()\n",
    "    train_y = train_data_df['y'].values\n",
    "    train_x = train_data_df.drop(['y'], axis=1).values\n",
    "    test_y = test_data_df['y'].values\n",
    "    test_x = test_data_df.drop(['y'], axis=1).values\n",
    "\n",
    "    return train_x,train_y,test_x,test_y"
   ]
  },
  {
   "cell_type": "code",
   "execution_count": null,
   "metadata": {
    "collapsed": true
   },
   "outputs": [],
   "source": [
    "# makes and trains a NN model and returns  the predicted probabilities back\n",
    "# based on the values passed for the hidden layer size and the activation function \n",
    "def get_nn_predictions(train_x, train_y, test_x, hls_sizes = HIDDEN_LAYER_SIZES, activation_function = ACT_FUNCTION):\n",
    "    skl_nn_model = MLPClassifier(hidden_layer_sizes = hls_sizes, activation = activation_function , max_iter= 100)\n",
    "    skl_nn_model.fit(train_x,train_y)\n",
    "    pred_y = skl_nn_model.predict_proba(test_x)\n",
    "    return pred_y\n",
    "\n",
    "# returns the prediction accuracy based the test data and the predicted probabilities \n",
    "def get_prediction_accuracy(test_y, predicted_prob):\n",
    "  predicted_y =  predicted_prob[:,0] < PROBABILITY_THRESHOLD\n",
    "  prediction_accuracy = sum(predicted_y == test_y) / predicted_y.shape[0]\n",
    "  return(prediction_accuracy)\n"
   ]
  },
  {
   "cell_type": "code",
   "execution_count": null,
   "metadata": {
    "collapsed": true,
    "scrolled": false
   },
   "outputs": [],
   "source": [
    "sum_accuracy = 0\n",
    "for r in range(ROUNDS_NO):\n",
    "  train_x,train_y,test_x,test_y = get_data()\n",
    "  predicted_prob = get_nn_predictions(train_x, train_y, test_x)\n",
    "  prediction_accuracy = get_prediction_accuracy(test_y, predicted_prob)\n",
    "  sum_accuracy += prediction_accuracy;\n",
    "model_accuracy = sum_accuracy * 100/ ROUNDS_NO;\n",
    "print(\"Accuracy : %.2f percent \"% model_accuracy) ;"
   ]
  }
 ],
 "metadata": {
  "kernelspec": {
   "display_name": "Python 3",
   "language": "python",
   "name": "python3"
  },
  "language_info": {
   "codemirror_mode": {
    "name": "ipython",
    "version": 3
   },
   "file_extension": ".py",
   "mimetype": "text/x-python",
   "name": "python",
   "nbconvert_exporter": "python",
   "pygments_lexer": "ipython3",
   "version": "3.6.1"
  }
 },
 "nbformat": 4,
 "nbformat_minor": 2
}
